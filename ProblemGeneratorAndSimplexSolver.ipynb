{
 "cells": [
  {
   "cell_type": "code",
   "execution_count": 1,
   "metadata": {},
   "outputs": [],
   "source": [
    "from scipy.optimize import linprog\n",
    "import numpy as np\n",
    "import numpy.random as rnd\n",
    "import time\n",
    "import math\n",
    "from IPython.display import clear_output"
   ]
  },
  {
   "cell_type": "code",
   "execution_count": 2,
   "metadata": {},
   "outputs": [],
   "source": [
    "MODS = [-1,1]"
   ]
  },
  {
   "cell_type": "code",
   "execution_count": 3,
   "metadata": {},
   "outputs": [],
   "source": [
    "def createProblem(N):\n",
    "    A = np.zeros(shape=(N,N), dtype=np.float64)\n",
    "    B = np.zeros(shape=(N), dtype=np.float64)\n",
    "    C = np.zeros(shape=(N), dtype=np.float64)\n",
    "    for i in range(N + 2):\n",
    "        #Генерация коэффициентов ограничений aij\n",
    "        if i < N:\n",
    "            for j in range(N):\n",
    "                value = 20*rnd.random_sample()-10\n",
    "                A[i,j] = round(value, 1)\n",
    "        #Генерация коэффициентов целевой функции bj\n",
    "        elif i == N:\n",
    "            for j in range(N):\n",
    "                mod = MODS[math.floor(2*rnd.random_sample())]\n",
    "                value = (9*rnd.random_sample()+1)*mod\n",
    "                B[j] = round(value, 1)\n",
    "        #Генерация коэффициентов правой части ограничений ci\n",
    "        elif i == N+1:\n",
    "            for j in range(N):\n",
    "                value = 99*rnd.random_sample()+1\n",
    "                C[j] = round(value, 1)\n",
    "    return A, B, C"
   ]
  },
  {
   "cell_type": "code",
   "execution_count": 4,
   "metadata": {},
   "outputs": [],
   "source": [
    "def writeToFile(M, mode, filename):\n",
    "    if mode == 0:\n",
    "        file = open(filename + '.txt', 'wt')\n",
    "    elif mode == 1:\n",
    "        file = open(filename + '.txt', 'at')\n",
    "    if M.ndim == 2:\n",
    "        for i in range(M.shape[0]):\n",
    "            stroke = \"\";\n",
    "            for j in range(M.shape[1]):\n",
    "                stroke += str(M[i,j]) + \" \"\n",
    "            file.write(stroke + '\\n')\n",
    "    elif M.ndim == 1:\n",
    "        stroke = \"\";\n",
    "        for j in range(M.shape[0]):\n",
    "            stroke += str(M[j]) + \" \"\n",
    "        file.write(stroke + '\\n')\n",
    "    file.close()"
   ]
  },
  {
   "cell_type": "code",
   "execution_count": 5,
   "metadata": {},
   "outputs": [],
   "source": [
    "class Res:\n",
    "    success = False\n",
    "    nit = 0"
   ]
  },
  {
   "cell_type": "code",
   "execution_count": 6,
   "metadata": {},
   "outputs": [],
   "source": [
    "def createCorrectProblem(amount, N, filename):\n",
    "    GOOD_COUNT = 0\n",
    "    BAD_COUNT = 0\n",
    "    PHASE1_COUNT = 0\n",
    "    COUNT = 0\n",
    "    while GOOD_COUNT < amount and BAD_COUNT < 1000:\n",
    "        A, B, C = createProblem(N)\n",
    "        A_ub = A.tolist()\n",
    "        b_ub = C.tolist()\n",
    "        B_T = B*(-1)\n",
    "        c = B_T.tolist()\n",
    "        bs = []\n",
    "        for i in range(N):\n",
    "            bs.append((None,0))\n",
    "        result1 = None\n",
    "        result2 = None\n",
    "        try:\n",
    "            beginTime1 = time.time()\n",
    "            #result1 = linprog(c, A_ub, b_ub, bounds=bs, method='simplex', options={'maxiter': 1000000})\n",
    "            result1 = Res()\n",
    "            endTime1 = time.time()\n",
    "            beginTime2 = time.time()\n",
    "            result2 = linprog(c, A_ub, b_ub, bounds=bs, method='revised simplex', options={'maxiter': 1000000})\n",
    "            endTime2 = time.time()\n",
    "        except ValueError:\n",
    "            result1 = Res()\n",
    "            result2 = Res()\n",
    "            PHASE1_COUNT += 1\n",
    "        COUNT += 1\n",
    "        if result1.success or result2.success:\n",
    "            GOOD_COUNT += 1\n",
    "            resTime1 = endTime1 - beginTime1\n",
    "            resTime2 = endTime2 - beginTime2\n",
    "            RES = np.array([N, result1.nit, resTime1, result2.nit, resTime2])\n",
    "            if GOOD_COUNT == 1:\n",
    "                writeToFile(np.array([amount]), 0, filename)\n",
    "            writeToFile(RES, 1, filename)\n",
    "            writeToFile(A, 1, filename)\n",
    "            writeToFile(B, 1, filename)\n",
    "            writeToFile(C, 1, filename)\n",
    "        else:\n",
    "            BAD_COUNT += 1\n",
    "        clear_output()\n",
    "        print('ПРАВИЛЬНЫХ: ', GOOD_COUNT, ', НЕПРАВИЛЬНЫХ: ', BAD_COUNT, ', PHASE 1 ERR: ', PHASE1_COUNT)\n",
    "    print('Всего ', str(COUNT), ' примеров (', str(GOOD_COUNT), ' правильных, ', str(BAD_COUNT), ' неправильных, из них ошибка по фазе 1 симплекса: ',str(PHASE1_COUNT),').')\n",
    "#writeToFile(A, 0)\n",
    "#writeToFile(B, 1)\n",
    "#writeToFile(C, 1)\n",
    "#A_ub = [[1,0,-4],[-2,9,-1],[2,-6,0]]\n",
    "#b_ub = [11,7,5]\n",
    "#c = [-7,5,4]"
   ]
  },
  {
   "cell_type": "code",
   "execution_count": 7,
   "metadata": {},
   "outputs": [],
   "source": [
    "#createCorrectProblem(1000, 150, \"results100\")"
   ]
  },
  {
   "cell_type": "code",
   "execution_count": 8,
   "metadata": {},
   "outputs": [],
   "source": [
    "#createCorrectProblem(100, 200, \"results200\")"
   ]
  },
  {
   "cell_type": "code",
   "execution_count": 9,
   "metadata": {},
   "outputs": [],
   "source": [
    "#createCorrectProblem(75, 250, \"results250\")"
   ]
  },
  {
   "cell_type": "code",
   "execution_count": 10,
   "metadata": {},
   "outputs": [],
   "source": [
    "#createCorrectProblem(75, 300, \"results300\")"
   ]
  },
  {
   "cell_type": "code",
   "execution_count": 11,
   "metadata": {},
   "outputs": [],
   "source": [
    "#createCorrectProblem(75, 350, \"results350\")"
   ]
  },
  {
   "cell_type": "code",
   "execution_count": 12,
   "metadata": {},
   "outputs": [],
   "source": [
    "#createCorrectProblem(75, 400, \"results400\")"
   ]
  },
  {
   "cell_type": "code",
   "execution_count": 13,
   "metadata": {},
   "outputs": [],
   "source": [
    "#createCorrectProblem(75, 450, \"results450\")"
   ]
  },
  {
   "cell_type": "code",
   "execution_count": 14,
   "metadata": {},
   "outputs": [],
   "source": [
    "#createCorrectProblem(75, 500, \"results500\")"
   ]
  },
  {
   "cell_type": "code",
   "execution_count": 15,
   "metadata": {},
   "outputs": [],
   "source": [
    "#createCorrectProblem(50, 550, \"results550\")"
   ]
  },
  {
   "cell_type": "code",
   "execution_count": 16,
   "metadata": {},
   "outputs": [],
   "source": [
    "#createCorrectProblem(50, 600, \"results600\")"
   ]
  },
  {
   "cell_type": "code",
   "execution_count": 17,
   "metadata": {},
   "outputs": [],
   "source": [
    "#createCorrectProblem(3, 650, \"results650\")"
   ]
  },
  {
   "cell_type": "code",
   "execution_count": 18,
   "metadata": {},
   "outputs": [],
   "source": [
    "#createCorrectProblem(25, 700, \"results700\")"
   ]
  },
  {
   "cell_type": "code",
   "execution_count": 19,
   "metadata": {},
   "outputs": [],
   "source": [
    "#createCorrectProblem(20, 750, \"results750\")"
   ]
  },
  {
   "cell_type": "code",
   "execution_count": 20,
   "metadata": {},
   "outputs": [],
   "source": [
    "#createCorrectProblem(15, 800, \"results800\")"
   ]
  },
  {
   "cell_type": "code",
   "execution_count": 21,
   "metadata": {},
   "outputs": [],
   "source": [
    "#createCorrectProblem(5, 900, \"results900\")"
   ]
  },
  {
   "cell_type": "code",
   "execution_count": 22,
   "metadata": {},
   "outputs": [],
   "source": [
    "#createCorrectProblem(5, 1000, \"results1000\")"
   ]
  },
  {
   "cell_type": "code",
   "execution_count": 23,
   "metadata": {},
   "outputs": [
    {
     "name": "stdout",
     "output_type": "stream",
     "text": [
      "ПРАВИЛЬНЫХ:  5 , НЕПРАВИЛЬНЫХ:  2 , PHASE 1 ERR:  0\n",
      "Всего  7  примеров ( 5  правильных,  2  неправильных, из них ошибка по фазе 1 симплекса:  0 ).\n"
     ]
    }
   ],
   "source": [
    "#createCorrectProblem(5, 1500, \"results1500\")"
   ]
  },
  {
   "cell_type": "code",
   "execution_count": 24,
   "metadata": {},
   "outputs": [
    {
     "name": "stdout",
     "output_type": "stream",
     "text": [
      "ПРАВИЛЬНЫХ:  5 , НЕПРАВИЛЬНЫХ:  2 , PHASE 1 ERR:  0\n",
      "Всего  7  примеров ( 5  правильных,  2  неправильных, из них ошибка по фазе 1 симплекса:  0 ).\n"
     ]
    }
   ],
   "source": [
    "#createCorrectProblem(5, 2000, \"results2000\")"
   ]
  }
 ],
 "metadata": {
  "kernelspec": {
   "display_name": "Python 3",
   "language": "python",
   "name": "python3"
  },
  "language_info": {
   "codemirror_mode": {
    "name": "ipython",
    "version": 3
   },
   "file_extension": ".py",
   "mimetype": "text/x-python",
   "name": "python",
   "nbconvert_exporter": "python",
   "pygments_lexer": "ipython3",
   "version": "3.7.3"
  }
 },
 "nbformat": 4,
 "nbformat_minor": 2
}
